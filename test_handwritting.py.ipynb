{
 "cells": [
  {
   "cell_type": "code",
   "execution_count": 1,
   "id": "6ab58a7d",
   "metadata": {},
   "outputs": [
    {
     "name": "stdout",
     "output_type": "stream",
     "text": [
      "INFO:tensorflow:Enabling eager execution\n",
      "INFO:tensorflow:Enabling v2 tensorshape\n",
      "INFO:tensorflow:Enabling resource variables\n",
      "INFO:tensorflow:Enabling tensor equality\n",
      "INFO:tensorflow:Enabling control flow v2\n"
     ]
    }
   ],
   "source": [
    "# import the necessary packages\n",
    "from tensorflow.keras.models import load_model\n",
    "from imutils.contours import sort_contours\n",
    "import numpy as np\n",
    "import argparse\n",
    "import imutils\n",
    "import cv2"
   ]
  },
  {
   "cell_type": "code",
   "execution_count": 2,
   "id": "05ef7212",
   "metadata": {},
   "outputs": [
    {
     "name": "stdout",
     "output_type": "stream",
     "text": [
      "[INFO] loading handwriting model...\n"
     ]
    }
   ],
   "source": [
    "# load the handwriting OCR model\n",
    "print(\"[INFO] loading handwriting model...\")\n",
    "model = load_model('handwriting.model')"
   ]
  },
  {
   "cell_type": "code",
   "execution_count": null,
   "id": "ed501fc9",
   "metadata": {},
   "outputs": [],
   "source": [
    "# load the input image from disk, convert it to grayscale, and blur\n",
    "# it to reduce noise\n",
    "image = cv2.imread('test2.jpeg')\n",
    "gray = cv2.cvtColor(image, cv2.COLOR_BGR2GRAY)\n",
    "blurred = cv2.GaussianBlur(gray, (5, 5), 0)\n"
   ]
  },
  {
   "cell_type": "code",
   "execution_count": null,
   "id": "25846233",
   "metadata": {},
   "outputs": [],
   "source": [
    "gray"
   ]
  },
  {
   "cell_type": "code",
   "execution_count": null,
   "id": "88857ff8",
   "metadata": {},
   "outputs": [],
   "source": [
    "blurred"
   ]
  },
  {
   "cell_type": "code",
   "execution_count": null,
   "id": "3f0ff399",
   "metadata": {},
   "outputs": [],
   "source": [
    "# perform edge detection, find contours in the edge map, and sort the\n",
    "# resulting contours from left-to-right\n",
    "edged = cv2.Canny(blurred, 30, 150)\n",
    "cnts = cv2.findContours(edged.copy(), cv2.RETR_EXTERNAL,cv2.CHAIN_APPROX_SIMPLE)\n",
    "cnts = imutils.grab_contours(cnts)\n",
    "cnts = sort_contours(cnts, method=\"left-to-right\")[0]"
   ]
  },
  {
   "cell_type": "code",
   "execution_count": null,
   "id": "e566ab1d",
   "metadata": {},
   "outputs": [],
   "source": [
    "# initialize the list of contour bounding boxes and associated\n",
    "# characters that we'll be OCR'ing\n",
    "chars = []\n",
    "\n",
    "# loop over the contours\n",
    "for c in cnts:\n",
    "    # compute the bounding box of the contour\n",
    "    (x, y, w, h) = cv2.boundingRect(c)\n",
    "    # filter out bounding boxes, ensuring they are neither too small nor too large\n",
    "    if (w >= 5 and w <= 150) and (h >= 15 and h <= 120):\n",
    "        # extract the character and threshold it to make the character appear as *white* (foreground) on a *black* background, then grab the width and height of the thresholded image\n",
    "        roi = gray[y:y + h, x:x + w]\n",
    "        thresh = cv2.threshold(roi, 0, 255,cv2.THRESH_BINARY_INV | cv2.THRESH_OTSU)[1]\n",
    "        (tH, tW) = thresh.shape\n",
    "        # if the width is greater than the height, resize along the width dimension\n",
    "        if tW > tH:\n",
    "            thresh = imutils.resize(thresh, width=32)\n",
    "        # otherwise, resize along the height\n",
    "        else:\n",
    "            thresh = imutils.resize(thresh, height=32)\n",
    "\n",
    "        # re-grab the image dimensions (now that its been resized)\n",
    "        # and then determine how much we need to pad the width and height such that our image will be 32x32\n",
    "        (tH, tW) = thresh.shape\n",
    "        dX = int(max(0, 32 - tW) / 2.0)\n",
    "        dY = int(max(0, 32 - tH) / 2.0)\n",
    "        # pad the image and force 32x32 dimensions\n",
    "        padded = cv2.copyMakeBorder(thresh, top=dY, bottom=dY,left=dX, right=dX, borderType=cv2.BORDER_CONSTANT,value=(0, 0, 0))\n",
    "        padded = cv2.resize(padded, (32, 32))\n",
    "\n",
    "        # prepare the padded image for classification via our handwriting OCR model\n",
    "        padded = padded.astype(\"float32\") / 255.0\n",
    "        padded = np.expand_dims(padded, axis=-1)\n",
    "\n",
    "        # update our list of characters that will be OCR'd\n",
    "        chars.append((padded, (x, y, w, h)))\n"
   ]
  },
  {
   "cell_type": "code",
   "execution_count": null,
   "id": "ed0b7630",
   "metadata": {},
   "outputs": [],
   "source": [
    "# extract the bounding box locations and padded characters\n",
    "boxes = [b[1] for b in chars]\n",
    "chars = np.array([c[0] for c in chars], dtype=\"float32\")"
   ]
  },
  {
   "cell_type": "code",
   "execution_count": null,
   "id": "ea188c75",
   "metadata": {},
   "outputs": [],
   "source": [
    "# OCR the characters using our handwriting recognition model\n",
    "preds = model.predict(chars)"
   ]
  },
  {
   "cell_type": "code",
   "execution_count": null,
   "id": "5cd40289",
   "metadata": {},
   "outputs": [],
   "source": [
    "# define the list of label names\n",
    "labelNames = \"0123456789\"\n",
    "labelNames += \"ABCDEFGHIJKLMNOPQRSTUVWXYZ\"\n",
    "labelNames = [l for l in labelNames]"
   ]
  },
  {
   "cell_type": "code",
   "execution_count": null,
   "id": "369c2f95",
   "metadata": {},
   "outputs": [],
   "source": [
    "# loop over the predictions and bounding box locations together\n",
    "for (pred, (x, y, w, h)) in zip(preds, boxes):\n",
    "\t# find the index of the label with the largest corresponding probability, then extract the probability and label\n",
    "    i = np.argmax(pred)\n",
    "    prob = pred[i]\n",
    "    label = labelNames[i]\n",
    "\n",
    "    # draw the prediction on the image\n",
    "    print(\"[INFO] {} - {:.2f}%\".format(label, prob * 100))\n",
    "    cv2.rectangle(image, (x, y), (x + w, y + h), (0, 255, 0), 2)\n",
    "    cv2.putText(image, label, (x - 10, y - 10), cv2.FONT_HERSHEY_SIMPLEX, 1.2, (0, 255, 0), 2)"
   ]
  },
  {
   "cell_type": "code",
   "execution_count": null,
   "id": "9b2f3b58",
   "metadata": {},
   "outputs": [],
   "source": [
    "# show the image\n",
    "cv2.imshow(\"Image\", image)\n",
    "cv2.waitKey(0)"
   ]
  },
  {
   "cell_type": "code",
   "execution_count": null,
   "id": "ddd2e1bb",
   "metadata": {},
   "outputs": [],
   "source": []
  },
  {
   "cell_type": "code",
   "execution_count": null,
   "id": "014b4682",
   "metadata": {},
   "outputs": [],
   "source": []
  }
 ],
 "metadata": {
  "kernelspec": {
   "display_name": "Python 3",
   "language": "python",
   "name": "python3"
  },
  "language_info": {
   "codemirror_mode": {
    "name": "ipython",
    "version": 3
   },
   "file_extension": ".py",
   "mimetype": "text/x-python",
   "name": "python",
   "nbconvert_exporter": "python",
   "pygments_lexer": "ipython3",
   "version": "3.9.0"
  }
 },
 "nbformat": 4,
 "nbformat_minor": 5
}
